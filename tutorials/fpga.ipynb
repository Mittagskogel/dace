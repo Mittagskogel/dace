{
 "cells": [
  {
   "cell_type": "markdown",
   "metadata": {},
   "source": [
    "# FPGA programming with DaCe\n",
    "\n",
    "In this tutorial, we will see how a developer can write code using the python DaCe frontend and generate efficient code for FPGA.\n",
    "We will discuss:\n",
    "- how to parse, transform and optimize the code for FPGA devices with maximal control (for FPGA experienced users)\n",
    "- how to get this done automatically by date auto-optmization heuristics (for non-experienced users or to quickly get a working example).\n",
    "\n",
    "Let's start with `ATAX`, a Matrix Transpose vector multiplication included in polybench suite: the case of ATAX, that computes $y = A^T Ax$"
   ]
  },
  {
   "cell_type": "code",
   "execution_count": null,
   "metadata": {},
   "outputs": [],
   "source": [
    "import dace\n",
    "import numpy as np"
   ]
  },
  {
   "cell_type": "code",
   "execution_count": null,
   "metadata": {},
   "outputs": [],
   "source": [
    "M, N  = 24, 24"
   ]
  },
  {
   "cell_type": "code",
   "execution_count": null,
   "metadata": {},
   "outputs": [],
   "source": [
    "@dace.program\n",
    "def atax(A: dace.float32[M, N], x: dace.float32[N]):\n",
    "    return (A @ x) @ A"
   ]
  },
  {
   "cell_type": "code",
   "execution_count": null,
   "metadata": {},
   "outputs": [],
   "source": [
    "sdfg = atax.to_sdfg()\n",
    "sdfg"
   ]
  }
 ],
 "metadata": {
  "kernelspec": {
   "display_name": "Python 3 (ipykernel)",
   "language": "python",
   "name": "python3"
  },
  "language_info": {
   "codemirror_mode": {
    "name": "ipython",
    "version": 3
   },
   "file_extension": ".py",
   "mimetype": "text/x-python",
   "name": "python",
   "nbconvert_exporter": "python",
   "pygments_lexer": "ipython3",
   "version": "3.11.5"
  }
 },
 "nbformat": 4,
 "nbformat_minor": 2
}
