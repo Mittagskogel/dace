{
 "cells": [
  {
   "attachments": {},
   "cell_type": "markdown",
   "metadata": {},
   "source": [
    "# Library Nodes"
   ]
  },
  {
   "attachments": {},
   "cell_type": "markdown",
   "metadata": {},
   "source": [
    "`LibraryNode`s facilitate the abstraction of common operations, enabling easy reuse in different SDFGs and Data-Centric progrmas. This tutorial covers creating `LibraryNode`s with different implelementations (called *expansions* or `ExpandTransformation`s), and how to use them in SDFGs or Data-Centric programs."
   ]
  },
  {
   "attachments": {},
   "cell_type": "markdown",
   "metadata": {},
   "source": [
    "For this tutorial, we use as an example the SDDMM (sampled dense-dense matrix multiplication) operation:\n",
    "$$\\bm{D} = \\bm{A} \\odot \\left(\\bm{B} \\times \\bm{C}\\right)$$\n",
    "$\\bm{A}$ is a sparse matrix, while $\\bm{B}$ and $\\bm{C}$ are dense matrices. The ouput $\\bm{D}$ is the Hadamard (element-wise) product of $\\bm{A}$ and the matrix product of $\\bm{B}$ and $\\bm{C}$, and has the same sparsity pattern as $\\bm{A}$. Effectively, $\\bm{A}$ *samples* (or filters) the dense product $\\bm{B} \\times \\bm{C}$. Assuming $\\bm{A}$ is in CSR format, the SDDMM algorithm is as follows:\n",
    "\n",
    "```python\n",
    "# A (D) has shape (M, N) with nnz non-zero values\n",
    "# A_data (D_data) is the non-zero values of A (D)\n",
    "# A_indices (D_indices) is the column indices of A (D)\n",
    "# A_indptr (D_indptr) is the row pointers of A (D)\n",
    "# B has shape (M, K)\n",
    "# C has shape (K, N)\n",
    "D_data = np.ones_like(A_data)\n",
    "D_indices = np.copy(A_indices)\n",
    "D_indptr = np.copy(A_indptr)\n",
    "for i in range(M):\n",
    "    for j in range(A_indptr[i], A_indptr[i + 1]):\n",
    "        for k in range(K):\n",
    "            D_data[j] *= B[i, k] * C[k, A_indices[j]]\n",
    "```"
   ]
  },
  {
   "attachments": {},
   "cell_type": "markdown",
   "metadata": {},
   "source": [
    "We start by creating a LibraryNode that represents the SDDMM operation. We create a class that inherits from `dace.sdfg.nodes.LibraryNode`, and we decorate it with `@dace.library.node`. The class must include an `implementations` dictionary, and an `defaul_implementation` string, which we will discuss later. The `LibraryNode`'s initialization method must call the initialization method of the super-class and pass the node's name, location, inputs, and outputs. The inputs and the outputs are the node's connector names."
   ]
  },
  {
   "cell_type": "code",
   "execution_count": 7,
   "metadata": {},
   "outputs": [],
   "source": [
    "import dace\n",
    "\n",
    "from dace import library\n",
    "from dace.sdfg import nodes\n",
    "from dace.transformation import ExpandTransformation\n",
    "from typing import Dict\n",
    "\n",
    "\n",
    "@library.node\n",
    "class MySDDMM(nodes.LibraryNode):\n",
    "\n",
    "    # We will fill those later\n",
    "    implementations: Dict[str, ExpandTransformation] = {}\n",
    "    default_implementation: str = None\n",
    "\n",
    "    def __init__(self, name, location=None):\n",
    "        super().__init__(name,\n",
    "                         location=location,\n",
    "                         inputs={'_a_data', '_a_indices', '_a_indptr', '_b', '_c'},\n",
    "                         outputs={'_d_data', '_d_indices', '_d_indptr'})\n"
   ]
  },
  {
   "attachments": {},
   "cell_type": "markdown",
   "metadata": {},
   "source": [
    "A `LibraryNode` can have different implemenetations (expansions), generic or specialized for specific architectures. These implementations can use the SDFG API but they can also be written as Data-Centric programs. We start by creating a *pure* expansion, which is an implementation that does not use any components, e.g., libraries, external to DaCe. We write this expansion as a Data-Centric Python program:"
   ]
  },
  {
   "cell_type": "code",
   "execution_count": 8,
   "metadata": {},
   "outputs": [],
   "source": [
    "@library.expansion\n",
    "class MySDDMMPureExpansion(ExpandTransformation):\n",
    "\n",
    "    environments = []\n",
    "\n",
    "    @staticmethod\n",
    "    def expansion(node, state, sdfg):\n",
    "\n",
    "        # Find shapes and datatypes of inputs and outputs\n",
    "\n",
    "        # A matrix\n",
    "        a_indptr_name = list(state.in_edges_by_connector(node, '_a_indptr'))[0].data.data\n",
    "        a_indptr_arr = sdfg.arrays[a_indptr_name]\n",
    "        a_data_name = list(state.in_edges_by_connector(node, '_a_data'))[0].data.data\n",
    "        a_data_arr = sdfg.arrays[a_data_name]\n",
    "        a_rowsp1 = a_indptr_arr.shape[0]\n",
    "        a_nnz = a_data_arr.shape[0]\n",
    "        a_dtype = a_data_arr.dtype\n",
    "\n",
    "        # B matrix\n",
    "        b_name = list(state.in_edges_by_connector(node, '_b'))[0].data.data\n",
    "        b_arr = sdfg.arrays[b_name]\n",
    "        b_rows = b_arr.shape[0]\n",
    "        b_cols = b_arr.shape[1]\n",
    "        b_dtype = b_arr.dtype\n",
    "\n",
    "        # C matrix\n",
    "        c_name = list(state.in_edges_by_connector(node, '_c'))[0].data.data\n",
    "        c_arr = sdfg.arrays[c_name]\n",
    "        c_rows = c_arr.shape[0]\n",
    "        c_cols = c_arr.shape[1]\n",
    "        c_dtype = c_arr.dtype\n",
    "\n",
    "        # D matrix\n",
    "        # We assume that it has the same shape and datatype as A\n",
    "\n",
    "        @dace.program\n",
    "        def sddmm_pure(_a_data: a_dtype[a_nnz], _a_indices: dace.int32[a_nnz], _a_indptr: dace.int32[a_rowsp1],\n",
    "                       _b: b_dtype[b_rows, b_cols], _c: c_dtype[c_rows, c_cols],\n",
    "                       _d_data: a_dtype[a_nnz], _d_indices: dace.int32[a_nnz], _d_indptr: dace.int32[a_rowsp1]):\n",
    "\n",
    "            _d_data[:] = 1\n",
    "            _d_indices[:] = _a_indices\n",
    "            _d_indptr[:] = _a_indptr\n",
    "\n",
    "            for i in dace.map[0:a_rowsp1 - 1]:\n",
    "                for j in dace.map[_a_indptr[i]:_a_indptr[i + 1]]:\n",
    "                    for k in dace.map[0:b_cols]:\n",
    "                        _d_data[j] *= _b[i, k] * _c[k, _a_indices[j]]\n",
    "\n",
    "        return sddmm_pure.to_sdfg()\n",
    "\n"
   ]
  },
  {
   "cell_type": "code",
   "execution_count": null,
   "metadata": {},
   "outputs": [],
   "source": []
  }
 ],
 "metadata": {
  "kernelspec": {
   "display_name": "py311-dace",
   "language": "python",
   "name": "python3"
  },
  "language_info": {
   "codemirror_mode": {
    "name": "ipython",
    "version": 3
   },
   "file_extension": ".py",
   "mimetype": "text/x-python",
   "name": "python",
   "nbconvert_exporter": "python",
   "pygments_lexer": "ipython3",
   "version": "3.11.0"
  },
  "orig_nbformat": 4,
  "vscode": {
   "interpreter": {
    "hash": "f4365af6226d83ec02cf1620d431f52c426cf97622e40406a6477f8a55cb5e80"
   }
  }
 },
 "nbformat": 4,
 "nbformat_minor": 2
}
